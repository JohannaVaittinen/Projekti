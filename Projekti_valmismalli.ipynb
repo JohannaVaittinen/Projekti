{
  "nbformat": 4,
  "nbformat_minor": 0,
  "metadata": {
    "colab": {
      "provenance": [],
      "authorship_tag": "ABX9TyMSiUdTqwLOPf41bn5u96kh",
      "include_colab_link": true
    },
    "kernelspec": {
      "name": "python3",
      "display_name": "Python 3"
    },
    "language_info": {
      "name": "python"
    }
  },
  "cells": [
    {
      "cell_type": "markdown",
      "metadata": {
        "id": "view-in-github",
        "colab_type": "text"
      },
      "source": [
        "<a href=\"https://colab.research.google.com/github/JohannaVaittinen/Projekti/blob/main/Projekti_valmismalli.ipynb\" target=\"_parent\"><img src=\"https://colab.research.google.com/assets/colab-badge.svg\" alt=\"Open In Colab\"/></a>"
      ]
    },
    {
      "cell_type": "markdown",
      "source": [
        "## Tämä projekti on esimerkkinä \"toimivast mallista\", teknisestiottaen toimii eli saa suoritettua loppuun asti, mutta heikko malli ja tokenisoinnissa ainakin isoja ongelmia. Tämä on kuitenkin isona apuna kun koitan pakertaa omaa mallia eteenpäin."
      ],
      "metadata": {
        "id": "YAE9UlyNV5ky"
      }
    },
    {
      "cell_type": "code",
      "execution_count": null,
      "metadata": {
        "id": "OCvIlh-okMXw"
      },
      "outputs": [],
      "source": [
        "import pandas as pd\n",
        "import tensorflow as tf\n",
        "from sklearn.model_selection import train_test_split\n",
        "from sklearn.preprocessing import LabelEncoder\n",
        "from tensorflow.keras.preprocessing.text import Tokenizer\n",
        "from tensorflow.keras.preprocessing.sequence import pad_sequences\n"
      ]
    },
    {
      "cell_type": "code",
      "source": [
        "# Read the file containing the names and genders\n",
        "data = pd.read_csv('names_genders.csv')\n",
        "\n",
        "# Split the dataset into training and test sets\n",
        "names_train, names_test, genders_train, genders_test = train_test_split(data['Name'], data['Gender'], test_size=0.2)"
      ],
      "metadata": {
        "id": "okiiCbbuks0x"
      },
      "execution_count": null,
      "outputs": []
    },
    {
      "cell_type": "code",
      "source": [
        "# Encode the gender labels\n",
        "encoder = LabelEncoder()\n",
        "genders_train_encoded = encoder.fit_transform(genders_train)\n",
        "genders_test_encoded = encoder.transform(genders_test)"
      ],
      "metadata": {
        "id": "x85hd3ZIks27"
      },
      "execution_count": null,
      "outputs": []
    },
    {
      "cell_type": "code",
      "source": [
        "# Tokenize the names\n",
        "#tokenizer = Tokenizer(\"Helsinki-NLP/opus-mt-fi-en\")\n",
        "tokenizer = Tokenizer()\n",
        "#tokenizer = Tokenizer.from_pretrained(\"Helsinki-NLP/opus-mt-fi-en\")\n",
        "tokenizer.fit_on_texts(names_train)\n",
        "names_train_encoded = tokenizer.texts_to_sequences(names_train)\n",
        "names_test_encoded = tokenizer.texts_to_sequences(names_test)"
      ],
      "metadata": {
        "id": "ldE-0GSck7eE"
      },
      "execution_count": null,
      "outputs": []
    },
    {
      "cell_type": "code",
      "source": [
        "# Pad the sequences\n",
        "max_length = max([len(s) for s in names_train_encoded])\n",
        "names_train_padded = pad_sequences(names_train_encoded, maxlen=max_length, padding='post')\n",
        "names_test_padded = pad_sequences(names_test_encoded, maxlen=max_length, padding='post')"
      ],
      "metadata": {
        "id": "X8flVNfJk7f-"
      },
      "execution_count": null,
      "outputs": []
    },
    {
      "cell_type": "code",
      "source": [
        "# Create a model using TensorFlow\n",
        "model = tf.keras.Sequential()\n",
        "model.add(tf.keras.layers.Embedding(input_dim=len(tokenizer.word_index) + 1, output_dim=8, input_length=max_length))\n",
        "model.add(tf.keras.layers.Flatten())\n",
        "model.add(tf.keras.layers.Dense(1, activation='sigmoid'))\n",
        "# Compile the model\n",
        "model.compile(optimizer='adam', loss='binary_crossentropy', metrics=['accuracy'])"
      ],
      "metadata": {
        "id": "Ss82NMNMk7jc"
      },
      "execution_count": null,
      "outputs": []
    },
    {
      "cell_type": "code",
      "source": [
        "# Train the model\n",
        "model.fit(names_train_padded, genders_train_encoded, epochs=10)"
      ],
      "metadata": {
        "colab": {
          "base_uri": "https://localhost:8080/"
        },
        "id": "Y0TbT-U2ks6L",
        "outputId": "f0daa314-607f-4da5-c200-e4a9329daa78"
      },
      "execution_count": null,
      "outputs": [
        {
          "output_type": "stream",
          "name": "stdout",
          "text": [
            "Epoch 1/10\n",
            "573/573 [==============================] - 2s 2ms/step - loss: 0.6528 - accuracy: 0.6182\n",
            "Epoch 2/10\n",
            "573/573 [==============================] - 1s 2ms/step - loss: 0.5389 - accuracy: 0.7307\n",
            "Epoch 3/10\n",
            "573/573 [==============================] - 1s 2ms/step - loss: 0.4080 - accuracy: 0.9302\n",
            "Epoch 4/10\n",
            "573/573 [==============================] - 1s 2ms/step - loss: 0.2727 - accuracy: 0.9305\n",
            "Epoch 5/10\n",
            "573/573 [==============================] - 1s 2ms/step - loss: 0.1819 - accuracy: 0.9289\n",
            "Epoch 6/10\n",
            "573/573 [==============================] - 1s 2ms/step - loss: 0.1361 - accuracy: 0.9299\n",
            "Epoch 7/10\n",
            "573/573 [==============================] - 1s 2ms/step - loss: 0.1139 - accuracy: 0.9302\n",
            "Epoch 8/10\n",
            "573/573 [==============================] - 1s 2ms/step - loss: 0.1023 - accuracy: 0.9289\n",
            "Epoch 9/10\n",
            "573/573 [==============================] - 1s 2ms/step - loss: 0.0956 - accuracy: 0.9301\n",
            "Epoch 10/10\n",
            "573/573 [==============================] - 1s 2ms/step - loss: 0.0916 - accuracy: 0.9291\n"
          ]
        },
        {
          "output_type": "execute_result",
          "data": {
            "text/plain": [
              "<keras.callbacks.History at 0x7f04353a1850>"
            ]
          },
          "metadata": {},
          "execution_count": 8
        }
      ]
    },
    {
      "cell_type": "code",
      "source": [
        "# Evaluate the model\n",
        "metrics = model.evaluate(names_test_padded, genders_test_encoded)\n",
        "accuracy = metrics[1]\n",
        "print('Accuracy: %.2f' % (accuracy*100))"
      ],
      "metadata": {
        "colab": {
          "base_uri": "https://localhost:8080/"
        },
        "id": "l1lPpdS4ks9B",
        "outputId": "a81bdfd8-fe77-4270-dfcc-59b078d7eee2"
      },
      "execution_count": null,
      "outputs": [
        {
          "output_type": "stream",
          "name": "stdout",
          "text": [
            "144/144 [==============================] - 0s 1ms/step - loss: 0.9411 - accuracy: 0.5781\n",
            "Accuracy: 57.81\n"
          ]
        }
      ]
    },
    {
      "cell_type": "code",
      "source": [
        "nimi = \"petri\"\n",
        "testi = tokenizer.texts_to_sequences(nimi)\n",
        "#pred = model.predict(nimi)\n",
        "testi\n",
        "#print(pred.argmax())"
      ],
      "metadata": {
        "colab": {
          "base_uri": "https://localhost:8080/"
        },
        "id": "ZF7gBGuJlMlN",
        "outputId": "aa72caf0-56a5-4ee7-ea6e-66cb5ae1605f"
      },
      "execution_count": null,
      "outputs": [
        {
          "output_type": "execute_result",
          "data": {
            "text/plain": [
              "[[6897], [], [], [1047], [7187]]"
            ]
          },
          "metadata": {},
          "execution_count": 26
        }
      ]
    },
    {
      "cell_type": "code",
      "source": [
        "# Evaluate the model\n",
        "metrics = model.evaluate(names_test_padded, genders_test_encoded)\n",
        "print(f\"{model.metrics_names[1]}: {metrics[1]:.2f}\")"
      ],
      "metadata": {
        "colab": {
          "base_uri": "https://localhost:8080/"
        },
        "id": "hBEYfSujlMqU",
        "outputId": "908c63db-7f9e-4f40-beb4-4e83a6b6cd6d"
      },
      "execution_count": null,
      "outputs": [
        {
          "output_type": "stream",
          "name": "stdout",
          "text": [
            "144/144 [==============================] - 0s 1ms/step - loss: 0.9411 - accuracy: 0.5781\n",
            "accuracy: 0.58\n"
          ]
        }
      ]
    }
  ]
}